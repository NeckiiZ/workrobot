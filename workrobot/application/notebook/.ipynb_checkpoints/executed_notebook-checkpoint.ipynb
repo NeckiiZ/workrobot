{
 "cells": [
  {
   "cell_type": "code",
   "execution_count": 1,
   "metadata": {
    "collapsed": false
   },
   "outputs": [
    {
     "name": "stdout",
     "output_type": "stream",
     "text": [
      "['Sheet1']\n",
      "[['region', 'replace'], ['����', '������'], ['��������', '����������']]\n"
     ]
    }
   ],
   "source": [
    "# coding=UTF-8\n",
    "\n",
    "import pandas as pd\n",
    "from libs.imexport.class_Excel import Excel\n",
    "\n",
    "filename = r'E:\\data\\citystat\\transform\\replace.xls'\n",
    "mexcel = Excel(filename)\n",
    "print(mexcel.sheet_names)\n",
    "print(mexcel.read())"
   ]
  },
  {
   "cell_type": "code",
   "execution_count": 2,
   "metadata": {
    "collapsed": false
   },
   "outputs": [
    {
     "name": "stdout",
     "output_type": "stream",
     "text": [
      "Hello World!\n"
     ]
    }
   ],
   "source": [
    "print('Hello World!')"
   ]
  }
 ],
 "metadata": {
  "kernelspec": {
   "display_name": "Python 3",
   "language": "python",
   "name": "python3"
  },
  "language_info": {
   "codemirror_mode": {
    "name": "ipython",
    "version": 3
   },
   "file_extension": ".py",
   "mimetype": "text/x-python",
   "name": "python",
   "nbconvert_exporter": "python",
   "pygments_lexer": "ipython3",
   "version": "3.4.3"
  }
 },
 "nbformat": 4,
 "nbformat_minor": 0
}
